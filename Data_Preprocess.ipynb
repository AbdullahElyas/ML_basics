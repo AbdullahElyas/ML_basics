{
 "cells": [
  {
   "cell_type": "code",
   "execution_count": 2,
   "id": "c92d54fc",
   "metadata": {},
   "outputs": [
    {
     "data": {
      "text/html": [
       "<div>\n",
       "<style scoped>\n",
       "    .dataframe tbody tr th:only-of-type {\n",
       "        vertical-align: middle;\n",
       "    }\n",
       "\n",
       "    .dataframe tbody tr th {\n",
       "        vertical-align: top;\n",
       "    }\n",
       "\n",
       "    .dataframe thead th {\n",
       "        text-align: right;\n",
       "    }\n",
       "</style>\n",
       "<table border=\"1\" class=\"dataframe\">\n",
       "  <thead>\n",
       "    <tr style=\"text-align: right;\">\n",
       "      <th></th>\n",
       "      <th>age</th>\n",
       "      <th>gender</th>\n",
       "      <th>bmi</th>\n",
       "      <th>children</th>\n",
       "      <th>smoker</th>\n",
       "      <th>region</th>\n",
       "      <th>charges</th>\n",
       "    </tr>\n",
       "  </thead>\n",
       "  <tbody>\n",
       "    <tr>\n",
       "      <th>0</th>\n",
       "      <td>19</td>\n",
       "      <td>female</td>\n",
       "      <td>27.900</td>\n",
       "      <td>0</td>\n",
       "      <td>yes</td>\n",
       "      <td>southwest</td>\n",
       "      <td>16884.92400</td>\n",
       "    </tr>\n",
       "    <tr>\n",
       "      <th>1</th>\n",
       "      <td>18</td>\n",
       "      <td>male</td>\n",
       "      <td>33.770</td>\n",
       "      <td>1</td>\n",
       "      <td>no</td>\n",
       "      <td>southeast</td>\n",
       "      <td>1725.55230</td>\n",
       "    </tr>\n",
       "    <tr>\n",
       "      <th>2</th>\n",
       "      <td>28</td>\n",
       "      <td>male</td>\n",
       "      <td>33.000</td>\n",
       "      <td>3</td>\n",
       "      <td>no</td>\n",
       "      <td>southeast</td>\n",
       "      <td>4449.46200</td>\n",
       "    </tr>\n",
       "    <tr>\n",
       "      <th>3</th>\n",
       "      <td>33</td>\n",
       "      <td>male</td>\n",
       "      <td>22.705</td>\n",
       "      <td>0</td>\n",
       "      <td>no</td>\n",
       "      <td>northwest</td>\n",
       "      <td>21984.47061</td>\n",
       "    </tr>\n",
       "    <tr>\n",
       "      <th>4</th>\n",
       "      <td>32</td>\n",
       "      <td>male</td>\n",
       "      <td>28.880</td>\n",
       "      <td>0</td>\n",
       "      <td>no</td>\n",
       "      <td>northwest</td>\n",
       "      <td>3866.85520</td>\n",
       "    </tr>\n",
       "  </tbody>\n",
       "</table>\n",
       "</div>"
      ],
      "text/plain": [
       "   age  gender     bmi  children smoker     region      charges\n",
       "0   19  female  27.900         0    yes  southwest  16884.92400\n",
       "1   18    male  33.770         1     no  southeast   1725.55230\n",
       "2   28    male  33.000         3     no  southeast   4449.46200\n",
       "3   33    male  22.705         0     no  northwest  21984.47061\n",
       "4   32    male  28.880         0     no  northwest   3866.85520"
      ]
     },
     "execution_count": 2,
     "metadata": {},
     "output_type": "execute_result"
    }
   ],
   "source": [
    "import numpy as np\n",
    "import pandas as pd\n",
    "from sklearn import preprocessing\n",
    "\n",
    "dir= 'C:\\\\Users\\\\Administrator\\\\Desktop\\\\Task1\\\\t1.csv'\n",
    "x=pd.read_csv(dir)\n",
    "x.head()\n"
   ]
  },
  {
   "cell_type": "code",
   "execution_count": 12,
   "id": "58ae5abb",
   "metadata": {},
   "outputs": [],
   "source": [
    "def data_process(x1):\n",
    "    Age=x['age'].values\n",
    "    bmi=x['bmi'].values\n",
    "    children=x['children'].values\n",
    "    charges=x['charges'].values\n",
    "    return Age,bmi,children,charges\n",
    "\n",
    "Age,bmi,children,charges = data_process(x)\n",
    "\n",
    "\n",
    "    "
   ]
  },
  {
   "cell_type": "code",
   "execution_count": 25,
   "id": "08431040",
   "metadata": {},
   "outputs": [
    {
     "name": "stdout",
     "output_type": "stream",
     "text": [
      "Minimum Age= 18 \n",
      "Minimum bmi= 15.96 \n",
      "Minimum Children= 0 \n",
      "Minimum Charges= 1121.8739\n"
     ]
    }
   ],
   "source": [
    "minage,minbmi,minchildren,mincharges = np.min(Age) , np.min(bmi) , np.min(children) , np.min(charges)\n",
    "\n",
    "print(\"Minimum Age=\",minage,\"\\nMinimum bmi=\",minbmi,\"\\nMinimum Children=\",minchildren, \"\\nMinimum Charges=\",mincharges)\n",
    "    "
   ]
  },
  {
   "cell_type": "code",
   "execution_count": 26,
   "id": "ef0adb47",
   "metadata": {},
   "outputs": [
    {
     "name": "stdout",
     "output_type": "stream",
     "text": [
      "maximum Age= 64 \n",
      "maximum bmi= 53.13 \n",
      "maximum Children= 5 \n",
      "maximum Charges= 63770.42801\n"
     ]
    }
   ],
   "source": [
    "maxage,maxbmi,maxchildren,maxcharges = np.max(Age) , np.max(bmi) , np.max(children) , np.max(charges)\n",
    "\n",
    "print(\"maximum Age=\",maxage,\"\\nmaximum bmi=\",maxbmi,\"\\nmaximum Children=\",maxchildren, \"\\nmaximum Charges=\",maxcharges)"
   ]
  },
  {
   "cell_type": "code",
   "execution_count": 28,
   "id": "63451f61",
   "metadata": {},
   "outputs": [
    {
     "name": "stdout",
     "output_type": "stream",
     "text": [
      "mean Age= 39.20702541106129 \n",
      "mean bmi= 30.66339686098655 \n",
      "mean Children= 1.0949177877429 \n",
      "mean Charges= 13270.422265141257\n"
     ]
    }
   ],
   "source": [
    "meanage,meanbmi,meanchildren,meancharges = np.mean(Age) , np.mean(bmi) , np.mean(children) , np.mean(charges)\n",
    "\n",
    "print(\"mean Age=\",meanage,\"\\nmean bmi=\",meanbmi,\"\\nmean Children=\",meanchildren, \"\\nmean Charges=\",meancharges)"
   ]
  },
  {
   "cell_type": "code",
   "execution_count": 42,
   "id": "2d3a1dc6",
   "metadata": {},
   "outputs": [
    {
     "name": "stdout",
     "output_type": "stream",
     "text": [
      "male      676\n",
      "female    662\n",
      "dtype: int64\n",
      "no     1064\n",
      "yes     274\n",
      "dtype: int64\n",
      "southeast    364\n",
      "southwest    325\n",
      "northwest    325\n",
      "northeast    324\n",
      "dtype: int64\n"
     ]
    }
   ],
   "source": [
    "# Gender type counts\n",
    "idx=pd.Index(x['gender'].values)\n",
    "a=idx.value_counts()\n",
    "\n",
    "# Smoker counts\n",
    "idx=pd.Index(x['smoker'].values)\n",
    "b=idx.value_counts()\n",
    "\n",
    "# Region counts\n",
    "idx=pd.Index(x['region'].values)\n",
    "c=idx.value_counts()\n",
    "\n",
    "\n",
    "print(a)\n",
    "print(b)\n",
    "print(c)\n",
    "\n",
    "\n"
   ]
  },
  {
   "cell_type": "code",
   "execution_count": 49,
   "id": "0b8ac66d",
   "metadata": {},
   "outputs": [
    {
     "name": "stdout",
     "output_type": "stream",
     "text": [
      "Unique values in Age ['female' 'male']\n",
      "\n",
      "Unique values in smoker ['yes' 'no']\n",
      "\n",
      "Unique values in region ['southwest' 'southeast' 'northwest' 'northeast']\n"
     ]
    }
   ],
   "source": [
    "a1=pd.unique(x['gender'].values)\n",
    "b1=pd.unique(x['smoker'].values)\n",
    "c1=pd.unique(x['region'].values)\n",
    "print(\"Unique values in Age\",a1)\n",
    "print(\"\\nUnique values in smoker\",b1)\n",
    "print(\"\\nUnique values in region\",c1)"
   ]
  },
  {
   "cell_type": "code",
   "execution_count": null,
   "id": "b82b7f52",
   "metadata": {},
   "outputs": [],
   "source": []
  }
 ],
 "metadata": {
  "kernelspec": {
   "display_name": "Python 3 (ipykernel)",
   "language": "python",
   "name": "python3"
  },
  "language_info": {
   "codemirror_mode": {
    "name": "ipython",
    "version": 3
   },
   "file_extension": ".py",
   "mimetype": "text/x-python",
   "name": "python",
   "nbconvert_exporter": "python",
   "pygments_lexer": "ipython3",
   "version": "3.10.9"
  }
 },
 "nbformat": 4,
 "nbformat_minor": 5
}
